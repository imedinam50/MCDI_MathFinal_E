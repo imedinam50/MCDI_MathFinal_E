{
 "cells": [
  {
   "cell_type": "markdown",
   "metadata": {},
   "source": [
    "## Modelo de programación lineal entera en \"Sagemath\" para la solución del problema de asignación de ingenieros calificados a solicitudes de servicio en una empresa de software.\n",
    "\n",
    "<br/>\n",
    "\n",
    "Carga de las librerías auxiliares para el manejo de las estructuras de datos en Python y Sagemath. Este modelo se ejecuta utilizando un kernel de la herramienta Sagemath, que debe ser cargado previamente a la ejecución de las instrucciones siguientes."
   ]
  },
  {
   "cell_type": "code",
   "execution_count": 1,
   "metadata": {
    "collapsed": false,
    "jupyter": {
     "outputs_hidden": false
    }
   },
   "outputs": [],
   "source": [
    "import pandas as pd"
   ]
  },
  {
   "cell_type": "markdown",
   "metadata": {},
   "source": [
    "Declaración de las estructuras de datos necesarias para la especificación de la función objetivo y las restricciones.\n",
    "\n",
    "A continuación se presenta la especificación de la matriz de solicitudes de servicio.  En esta matriz cada cliente selecciona entre diferentes opciones de tipos de servicio, en este caso se han etiquetado con números del 1 al 6.\n",
    "De tal forma que el cliente 1 ha solicitado 2 servicios del tipo 1, el cliente 2 solicita un servicio del tipo 3, etc."
   ]
  },
  {
   "cell_type": "code",
   "execution_count": 2,
   "metadata": {
    "collapsed": false,
    "jupyter": {
     "outputs_hidden": false
    }
   },
   "outputs": [
    {
     "data": {
      "text/html": [
       "<div>\n",
       "<style scoped>\n",
       "    .dataframe tbody tr th:only-of-type {\n",
       "        vertical-align: middle;\n",
       "    }\n",
       "\n",
       "    .dataframe tbody tr th {\n",
       "        vertical-align: top;\n",
       "    }\n",
       "\n",
       "    .dataframe thead th {\n",
       "        text-align: right;\n",
       "    }\n",
       "</style>\n",
       "<table border=\"1\" class=\"dataframe\">\n",
       "  <thead>\n",
       "    <tr style=\"text-align: right;\">\n",
       "      <th></th>\n",
       "      <th>Servicio01</th>\n",
       "      <th>Servicio02</th>\n",
       "      <th>Servicio03</th>\n",
       "      <th>Servicio04</th>\n",
       "      <th>Servicio05</th>\n",
       "      <th>Servicio06</th>\n",
       "    </tr>\n",
       "    <tr>\n",
       "      <th>IdCliente</th>\n",
       "      <th></th>\n",
       "      <th></th>\n",
       "      <th></th>\n",
       "      <th></th>\n",
       "      <th></th>\n",
       "      <th></th>\n",
       "    </tr>\n",
       "  </thead>\n",
       "  <tbody>\n",
       "    <tr>\n",
       "      <th>C1</th>\n",
       "      <td>2</td>\n",
       "      <td>0</td>\n",
       "      <td>0</td>\n",
       "      <td>0</td>\n",
       "      <td>0</td>\n",
       "      <td>0</td>\n",
       "    </tr>\n",
       "    <tr>\n",
       "      <th>C2</th>\n",
       "      <td>0</td>\n",
       "      <td>0</td>\n",
       "      <td>1</td>\n",
       "      <td>0</td>\n",
       "      <td>0</td>\n",
       "      <td>0</td>\n",
       "    </tr>\n",
       "    <tr>\n",
       "      <th>C3</th>\n",
       "      <td>1</td>\n",
       "      <td>1</td>\n",
       "      <td>0</td>\n",
       "      <td>0</td>\n",
       "      <td>0</td>\n",
       "      <td>0</td>\n",
       "    </tr>\n",
       "    <tr>\n",
       "      <th>C4</th>\n",
       "      <td>0</td>\n",
       "      <td>0</td>\n",
       "      <td>0</td>\n",
       "      <td>0</td>\n",
       "      <td>2</td>\n",
       "      <td>0</td>\n",
       "    </tr>\n",
       "    <tr>\n",
       "      <th>C5</th>\n",
       "      <td>0</td>\n",
       "      <td>0</td>\n",
       "      <td>0</td>\n",
       "      <td>1</td>\n",
       "      <td>0</td>\n",
       "      <td>1</td>\n",
       "    </tr>\n",
       "  </tbody>\n",
       "</table>\n",
       "</div>"
      ],
      "text/plain": [
       "          Servicio01 Servicio02 Servicio03 Servicio04 Servicio05 Servicio06\n",
       "IdCliente                                                                  \n",
       "C1                 2          0          0          0          0          0\n",
       "C2                 0          0          1          0          0          0\n",
       "C3                 1          1          0          0          0          0\n",
       "C4                 0          0          0          0          2          0\n",
       "C5                 0          0          0          1          0          1"
      ]
     },
     "execution_count": 2,
     "metadata": {},
     "output_type": "execute_result"
    }
   ],
   "source": [
    "data = [['C1', 2, 0, 0, 0, 0, 0], \n",
    "        ['C2', 0, 0, 1, 0, 0, 0],\n",
    "        ['C3', 1, 1, 0, 0, 0, 0],\n",
    "        ['C4', 0, 0, 0, 0, 2, 0],\n",
    "        ['C5', 0, 0, 0, 1, 0, 1]]\n",
    "\n",
    "solicitudes = pd.DataFrame(data, columns=['IdCliente', 'Servicio01', 'Servicio02', \n",
    "                                    'Servicio03', 'Servicio04', 'Servicio05', \n",
    "                                    'Servicio06'])\n",
    "\n",
    "solicitudes = solicitudes.set_index(['IdCliente'])\n",
    "solicitudes"
   ]
  },
  {
   "cell_type": "markdown",
   "metadata": {},
   "source": [
    "La siguiente matriz es la de acreditaciones, que se refiere a las destrezas que cada ingeniero ha desarrollado, que en conjunto con su experiencia le permiten llevar a cabo ciertos tipo de solicitudes de servicio.\n",
    "Para este caso, el ingeniero 1, puede resolver solicitudes de servicio del tipo 3, 4 y 6, de manera similar los otros ingenieros pueden ejecutar otros servicios."
   ]
  },
  {
   "cell_type": "code",
   "execution_count": 3,
   "metadata": {
    "collapsed": false,
    "jupyter": {
     "outputs_hidden": false
    }
   },
   "outputs": [
    {
     "data": {
      "text/html": [
       "<div>\n",
       "<style scoped>\n",
       "    .dataframe tbody tr th:only-of-type {\n",
       "        vertical-align: middle;\n",
       "    }\n",
       "\n",
       "    .dataframe tbody tr th {\n",
       "        vertical-align: top;\n",
       "    }\n",
       "\n",
       "    .dataframe thead th {\n",
       "        text-align: right;\n",
       "    }\n",
       "</style>\n",
       "<table border=\"1\" class=\"dataframe\">\n",
       "  <thead>\n",
       "    <tr style=\"text-align: right;\">\n",
       "      <th></th>\n",
       "      <th>Servicio01</th>\n",
       "      <th>Servicio02</th>\n",
       "      <th>Servicio03</th>\n",
       "      <th>Servicio04</th>\n",
       "      <th>Servicio05</th>\n",
       "      <th>Servicio06</th>\n",
       "    </tr>\n",
       "    <tr>\n",
       "      <th>IdIngeniero</th>\n",
       "      <th></th>\n",
       "      <th></th>\n",
       "      <th></th>\n",
       "      <th></th>\n",
       "      <th></th>\n",
       "      <th></th>\n",
       "    </tr>\n",
       "  </thead>\n",
       "  <tbody>\n",
       "    <tr>\n",
       "      <th>I1</th>\n",
       "      <td>0</td>\n",
       "      <td>0</td>\n",
       "      <td>1</td>\n",
       "      <td>1</td>\n",
       "      <td>0</td>\n",
       "      <td>1</td>\n",
       "    </tr>\n",
       "    <tr>\n",
       "      <th>I2</th>\n",
       "      <td>0</td>\n",
       "      <td>0</td>\n",
       "      <td>1</td>\n",
       "      <td>0</td>\n",
       "      <td>1</td>\n",
       "      <td>1</td>\n",
       "    </tr>\n",
       "    <tr>\n",
       "      <th>I3</th>\n",
       "      <td>1</td>\n",
       "      <td>1</td>\n",
       "      <td>0</td>\n",
       "      <td>1</td>\n",
       "      <td>0</td>\n",
       "      <td>0</td>\n",
       "    </tr>\n",
       "    <tr>\n",
       "      <th>I4</th>\n",
       "      <td>0</td>\n",
       "      <td>1</td>\n",
       "      <td>0</td>\n",
       "      <td>0</td>\n",
       "      <td>1</td>\n",
       "      <td>1</td>\n",
       "    </tr>\n",
       "    <tr>\n",
       "      <th>I5</th>\n",
       "      <td>0</td>\n",
       "      <td>0</td>\n",
       "      <td>0</td>\n",
       "      <td>1</td>\n",
       "      <td>0</td>\n",
       "      <td>1</td>\n",
       "    </tr>\n",
       "    <tr>\n",
       "      <th>I6</th>\n",
       "      <td>1</td>\n",
       "      <td>1</td>\n",
       "      <td>1</td>\n",
       "      <td>1</td>\n",
       "      <td>0</td>\n",
       "      <td>0</td>\n",
       "    </tr>\n",
       "  </tbody>\n",
       "</table>\n",
       "</div>"
      ],
      "text/plain": [
       "            Servicio01 Servicio02 Servicio03 Servicio04 Servicio05 Servicio06\n",
       "IdIngeniero                                                                  \n",
       "I1                   0          0          1          1          0          1\n",
       "I2                   0          0          1          0          1          1\n",
       "I3                   1          1          0          1          0          0\n",
       "I4                   0          1          0          0          1          1\n",
       "I5                   0          0          0          1          0          1\n",
       "I6                   1          1          1          1          0          0"
      ]
     },
     "execution_count": 3,
     "metadata": {},
     "output_type": "execute_result"
    }
   ],
   "source": [
    "data = [['I1', 0, 0, 1, 1, 0, 1], \n",
    "        ['I2', 0, 0, 1, 0, 1, 1],\n",
    "        ['I3', 1, 1, 0, 1, 0, 0],\n",
    "        ['I4', 0, 1, 0, 0, 1, 1],\n",
    "        ['I5', 0, 0, 0, 1, 0, 1],\n",
    "        ['I6', 1, 1, 1, 1, 0, 0]]\n",
    "\n",
    "acreditaciones = pd.DataFrame(data, columns=['IdIngeniero', 'Servicio01', 'Servicio02', \n",
    "                                    'Servicio03', 'Servicio04', 'Servicio05', \n",
    "                                    'Servicio06'])\n",
    "\n",
    "acreditaciones = acreditaciones.set_index(['IdIngeniero'])\n",
    "acreditaciones"
   ]
  },
  {
   "cell_type": "markdown",
   "metadata": {},
   "source": [
    "## === Eliminar porque no se incluyen en el modelo!!! ==="
   ]
  },
  {
   "cell_type": "code",
   "execution_count": 4,
   "metadata": {
    "collapsed": false,
    "jupyter": {
     "outputs_hidden": false
    }
   },
   "outputs": [
    {
     "data": {
      "text/html": [
       "<div>\n",
       "<style scoped>\n",
       "    .dataframe tbody tr th:only-of-type {\n",
       "        vertical-align: middle;\n",
       "    }\n",
       "\n",
       "    .dataframe tbody tr th {\n",
       "        vertical-align: top;\n",
       "    }\n",
       "\n",
       "    .dataframe thead th {\n",
       "        text-align: right;\n",
       "    }\n",
       "</style>\n",
       "<table border=\"1\" class=\"dataframe\">\n",
       "  <thead>\n",
       "    <tr style=\"text-align: right;\">\n",
       "      <th></th>\n",
       "      <th>SemanasLibres</th>\n",
       "    </tr>\n",
       "    <tr>\n",
       "      <th>IdIngeniero</th>\n",
       "      <th></th>\n",
       "    </tr>\n",
       "  </thead>\n",
       "  <tbody>\n",
       "    <tr>\n",
       "      <th>I1</th>\n",
       "      <td>2</td>\n",
       "    </tr>\n",
       "    <tr>\n",
       "      <th>I2</th>\n",
       "      <td>1</td>\n",
       "    </tr>\n",
       "    <tr>\n",
       "      <th>I3</th>\n",
       "      <td>3</td>\n",
       "    </tr>\n",
       "    <tr>\n",
       "      <th>I4</th>\n",
       "      <td>2</td>\n",
       "    </tr>\n",
       "    <tr>\n",
       "      <th>I5</th>\n",
       "      <td>1</td>\n",
       "    </tr>\n",
       "    <tr>\n",
       "      <th>I6</th>\n",
       "      <td>3</td>\n",
       "    </tr>\n",
       "  </tbody>\n",
       "</table>\n",
       "</div>"
      ],
      "text/plain": [
       "            SemanasLibres\n",
       "IdIngeniero              \n",
       "I1                      2\n",
       "I2                      1\n",
       "I3                      3\n",
       "I4                      2\n",
       "I5                      1\n",
       "I6                      3"
      ]
     },
     "execution_count": 4,
     "metadata": {},
     "output_type": "execute_result"
    }
   ],
   "source": [
    "data = [['I1', 2], \n",
    "        ['I2', 1],\n",
    "        ['I3', 3],\n",
    "        ['I4', 2],\n",
    "        ['I5', 1],\n",
    "        ['I6', 3]]\n",
    "\n",
    "libres = pd.DataFrame(data, columns=['IdIngeniero', 'SemanasLibres'])\n",
    "\n",
    "libres = libres.set_index(['IdIngeniero'])\n",
    "libres"
   ]
  },
  {
   "cell_type": "markdown",
   "metadata": {},
   "source": [
    "<br/>\n",
    "\n",
    "En la matriz siguiente podemos observar los costos totales que se pueden incurrir si un ingeniero cualquiera, ejecuta el servicio que el cliente $x$ está solicitando. "
   ]
  },
  {
   "cell_type": "code",
   "execution_count": 5,
   "metadata": {
    "collapsed": false,
    "jupyter": {
     "outputs_hidden": false
    }
   },
   "outputs": [
    {
     "data": {
      "text/html": [
       "<div>\n",
       "<style scoped>\n",
       "    .dataframe tbody tr th:only-of-type {\n",
       "        vertical-align: middle;\n",
       "    }\n",
       "\n",
       "    .dataframe tbody tr th {\n",
       "        vertical-align: top;\n",
       "    }\n",
       "\n",
       "    .dataframe thead th {\n",
       "        text-align: right;\n",
       "    }\n",
       "</style>\n",
       "<table border=\"1\" class=\"dataframe\">\n",
       "  <thead>\n",
       "    <tr style=\"text-align: right;\">\n",
       "      <th></th>\n",
       "      <th>C1</th>\n",
       "      <th>C2</th>\n",
       "      <th>C3</th>\n",
       "      <th>C4</th>\n",
       "      <th>C5</th>\n",
       "    </tr>\n",
       "    <tr>\n",
       "      <th>IdIngeniero</th>\n",
       "      <th></th>\n",
       "      <th></th>\n",
       "      <th></th>\n",
       "      <th></th>\n",
       "      <th></th>\n",
       "    </tr>\n",
       "  </thead>\n",
       "  <tbody>\n",
       "    <tr>\n",
       "      <th>I1</th>\n",
       "      <td>120</td>\n",
       "      <td>113</td>\n",
       "      <td>91</td>\n",
       "      <td>97</td>\n",
       "      <td>60</td>\n",
       "    </tr>\n",
       "    <tr>\n",
       "      <th>I2</th>\n",
       "      <td>68</td>\n",
       "      <td>97</td>\n",
       "      <td>68</td>\n",
       "      <td>127</td>\n",
       "      <td>113</td>\n",
       "    </tr>\n",
       "    <tr>\n",
       "      <th>I3</th>\n",
       "      <td>111</td>\n",
       "      <td>115</td>\n",
       "      <td>120</td>\n",
       "      <td>114</td>\n",
       "      <td>119</td>\n",
       "    </tr>\n",
       "    <tr>\n",
       "      <th>I4</th>\n",
       "      <td>93</td>\n",
       "      <td>113</td>\n",
       "      <td>113</td>\n",
       "      <td>93</td>\n",
       "      <td>112</td>\n",
       "    </tr>\n",
       "    <tr>\n",
       "      <th>I5</th>\n",
       "      <td>108</td>\n",
       "      <td>67</td>\n",
       "      <td>115</td>\n",
       "      <td>115</td>\n",
       "      <td>114</td>\n",
       "    </tr>\n",
       "    <tr>\n",
       "      <th>I6</th>\n",
       "      <td>125</td>\n",
       "      <td>107</td>\n",
       "      <td>60</td>\n",
       "      <td>113</td>\n",
       "      <td>64</td>\n",
       "    </tr>\n",
       "  </tbody>\n",
       "</table>\n",
       "</div>"
      ],
      "text/plain": [
       "              C1   C2   C3   C4   C5\n",
       "IdIngeniero                         \n",
       "I1           120  113   91   97   60\n",
       "I2            68   97   68  127  113\n",
       "I3           111  115  120  114  119\n",
       "I4            93  113  113   93  112\n",
       "I5           108   67  115  115  114\n",
       "I6           125  107   60  113   64"
      ]
     },
     "execution_count": 5,
     "metadata": {},
     "output_type": "execute_result"
    }
   ],
   "source": [
    "data = [['I1', 120, 113,  91,  97,  60], \n",
    "        ['I2',  68,  97,  68, 127, 113],\n",
    "        ['I3', 111, 115, 120, 114, 119],\n",
    "        ['I4',  93, 113, 113,  93, 112],\n",
    "        ['I5', 108,  67, 115, 115, 114],\n",
    "        ['I6', 125, 107,  60, 113,  64]]\n",
    "\n",
    "costos = pd.DataFrame(data, columns=['IdIngeniero', 'C1', 'C2', 'C3', 'C4', 'C5'])\n",
    "\n",
    "costos = costos.set_index(['IdIngeniero'])\n",
    "costos"
   ]
  },
  {
   "cell_type": "markdown",
   "metadata": {},
   "source": [
    "<br/>\n",
    "\n",
    "Las siguientes lineas de código, llevan a cabo la definición del modelo de programación lineal.  Se indica que es un modelo de minimización (de costos).  Y declaramos una nueva variable llamada `Asignación` que es no negativa y entera."
   ]
  },
  {
   "cell_type": "code",
   "execution_count": 6,
   "metadata": {
    "collapsed": false,
    "jupyter": {
     "outputs_hidden": false
    }
   },
   "outputs": [],
   "source": [
    "programa = MixedIntegerLinearProgram(maximization=False)\n",
    "asignacion = programa.new_variable(integer=True, nonnegative = True, name='Asignación')"
   ]
  },
  {
   "cell_type": "markdown",
   "metadata": {},
   "source": [
    "<br/>\n",
    "\n",
    "Las lineas de código siguientes, se utilizan para hacer un poco mas entendible las solicitudes de servicio de los clientes y su asignación a un conjunto posible de ingenieros calificados.\n",
    "\n",
    "También en estas lineas de código se arma la función objetivo en la variable \"suma\", que contiene la sumatoria de costos de asignar un ingeniero $i$ a un cliente $j$.\n",
    "En el impreso se muestra la función objetivo completa.  La función objetivo solo necesita de 16 variables ($x_0$ a $x_{15}$) para su definición, ya que esas son las combinaciones suficientes de clientes, ingenieros y solicitudes de servicio."
   ]
  },
  {
   "cell_type": "code",
   "execution_count": 7,
   "metadata": {
    "collapsed": false,
    "jupyter": {
     "outputs_hidden": false
    }
   },
   "outputs": [
    {
     "name": "stdout",
     "output_type": "stream",
     "text": [
      "El cliente C1 requiere 2 servicios. Los ingenieros posibles son:\n",
      "\tEl ingeniero I3 con costo de $ 111\n",
      "\tEl ingeniero I6 con costo de $ 125\n",
      "El cliente C2 requiere 1 servicios. Los ingenieros posibles son:\n",
      "\tEl ingeniero I1 con costo de $ 113\n",
      "\tEl ingeniero I2 con costo de $ 97\n",
      "\tEl ingeniero I6 con costo de $ 107\n",
      "El cliente C3 requiere 1 servicios. Los ingenieros posibles son:\n",
      "\tEl ingeniero I3 con costo de $ 120\n",
      "\tEl ingeniero I6 con costo de $ 60\n",
      "El cliente C3 requiere 1 servicios. Los ingenieros posibles son:\n",
      "\tEl ingeniero I3 con costo de $ 120\n",
      "\tEl ingeniero I4 con costo de $ 113\n",
      "\tEl ingeniero I6 con costo de $ 60\n",
      "El cliente C4 requiere 2 servicios. Los ingenieros posibles son:\n",
      "\tEl ingeniero I2 con costo de $ 127\n",
      "\tEl ingeniero I4 con costo de $ 93\n",
      "El cliente C5 requiere 1 servicios. Los ingenieros posibles son:\n",
      "\tEl ingeniero I1 con costo de $ 60\n",
      "\tEl ingeniero I3 con costo de $ 119\n",
      "\tEl ingeniero I5 con costo de $ 114\n",
      "\tEl ingeniero I6 con costo de $ 64\n",
      "El cliente C5 requiere 1 servicios. Los ingenieros posibles son:\n",
      "\tEl ingeniero I1 con costo de $ 60\n",
      "\tEl ingeniero I2 con costo de $ 113\n",
      "\tEl ingeniero I4 con costo de $ 112\n",
      "\tEl ingeniero I5 con costo de $ 114\n",
      "Minimization:\n",
      "  111.0 Asignación[('C1', 'I3')] + 125.0 Asignación[('C1', 'I6')] + 113.0 Asignación[('C2', 'I1')] + 97.0 Asignación[('C2', 'I2')] + 107.0 Asignación[('C2', 'I6')] + 120.0 Asignación[('C3', 'I3')] + 60.0 Asignación[('C3', 'I6')] + 113.0 Asignación[('C3', 'I4')] + 127.0 Asignación[('C4', 'I2')] + 93.0 Asignación[('C4', 'I4')] + 60.0 Asignación[('C5', 'I1')] + 119.0 Asignación[('C5', 'I3')] + 114.0 Asignación[('C5', 'I5')] + 64.0 Asignación[('C5', 'I6')] + 113.0 Asignación[('C5', 'I2')] + 112.0 Asignación[('C5', 'I4')] \n",
      "\n",
      "Constraints:\n",
      "Variables:\n",
      "  Asignación[('C1', 'I3')] = x_0 is an integer variable (min=0.0, max=+oo)\n",
      "  Asignación[('C1', 'I6')] = x_1 is an integer variable (min=0.0, max=+oo)\n",
      "  Asignación[('C2', 'I1')] = x_2 is an integer variable (min=0.0, max=+oo)\n",
      "  Asignación[('C2', 'I2')] = x_3 is an integer variable (min=0.0, max=+oo)\n",
      "  Asignación[('C2', 'I6')] = x_4 is an integer variable (min=0.0, max=+oo)\n",
      "  Asignación[('C3', 'I3')] = x_5 is an integer variable (min=0.0, max=+oo)\n",
      "  Asignación[('C3', 'I6')] = x_6 is an integer variable (min=0.0, max=+oo)\n",
      "  Asignación[('C3', 'I4')] = x_7 is an integer variable (min=0.0, max=+oo)\n",
      "  Asignación[('C4', 'I2')] = x_8 is an integer variable (min=0.0, max=+oo)\n",
      "  Asignación[('C4', 'I4')] = x_9 is an integer variable (min=0.0, max=+oo)\n",
      "  Asignación[('C5', 'I1')] = x_10 is an integer variable (min=0.0, max=+oo)\n",
      "  Asignación[('C5', 'I3')] = x_11 is an integer variable (min=0.0, max=+oo)\n",
      "  Asignación[('C5', 'I5')] = x_12 is an integer variable (min=0.0, max=+oo)\n",
      "  Asignación[('C5', 'I6')] = x_13 is an integer variable (min=0.0, max=+oo)\n",
      "  Asignación[('C5', 'I2')] = x_14 is an integer variable (min=0.0, max=+oo)\n",
      "  Asignación[('C5', 'I4')] = x_15 is an integer variable (min=0.0, max=+oo)\n"
     ]
    }
   ],
   "source": [
    "suma = 0\n",
    "for i in solicitudes.index:\n",
    "    if solicitudes.Servicio01.loc[i] > 0:\n",
    "        print(\"El cliente\", i, \"requiere\", solicitudes.Servicio01.loc[i], \"servicios. Los ingenieros posibles son:\")\n",
    "        for j in acreditaciones.index:\n",
    "            if acreditaciones.Servicio01.loc[j] > 0:\n",
    "                print(\"\\tEl ingeniero\" , j, \"con costo de $\", costos[i].loc[j])\n",
    "                suma = suma + costos[i].loc[j] * asignacion[i, j]\n",
    "    if solicitudes.Servicio02.loc[i] > 0:\n",
    "        print(\"El cliente\", i, \"requiere\", solicitudes.Servicio02.loc[i], \"servicios. Los ingenieros posibles son:\")\n",
    "        for j in acreditaciones.index:\n",
    "            if acreditaciones.Servicio02.loc[j] > 0:\n",
    "                print(\"\\tEl ingeniero\" , j, \"con costo de $\", costos[i].loc[j])\n",
    "                suma = suma + costos[i].loc[j] * asignacion[i, j]\n",
    "    if solicitudes.Servicio03.loc[i] > 0:\n",
    "        print(\"El cliente\", i, \"requiere\", solicitudes.Servicio03.loc[i], \"servicios. Los ingenieros posibles son:\")\n",
    "        for j in acreditaciones.index:\n",
    "            if acreditaciones.Servicio03.loc[j] > 0:\n",
    "                print(\"\\tEl ingeniero\" , j, \"con costo de $\", costos[i].loc[j])\n",
    "                suma = suma + costos[i].loc[j] * asignacion[i, j]\n",
    "    if solicitudes.Servicio04.loc[i] > 0:\n",
    "        print(\"El cliente\", i, \"requiere\", solicitudes.Servicio04.loc[i], \"servicios. Los ingenieros posibles son:\")\n",
    "        for j in acreditaciones.index:\n",
    "            if acreditaciones.Servicio04.loc[j] > 0:\n",
    "                print(\"\\tEl ingeniero\" , j, \"con costo de $\", costos[i].loc[j])\n",
    "                suma = suma + costos[i].loc[j] * asignacion[i, j]\n",
    "    if solicitudes.Servicio05.loc[i] > 0:\n",
    "        print(\"El cliente\", i, \"requiere\", solicitudes.Servicio05.loc[i], \"servicios. Los ingenieros posibles son:\")\n",
    "        for j in acreditaciones.index:\n",
    "            if acreditaciones.Servicio05.loc[j] > 0:\n",
    "                print(\"\\tEl ingeniero\" , j, \"con costo de $\", costos[i].loc[j])\n",
    "                suma = suma + costos[i].loc[j] * asignacion[i, j]\n",
    "    if solicitudes.Servicio06.loc[i] > 0:\n",
    "        print(\"El cliente\", i, \"requiere\", solicitudes.Servicio06.loc[i], \"servicios. Los ingenieros posibles son:\")\n",
    "        for j in acreditaciones.index:\n",
    "            if acreditaciones.Servicio06.loc[j] > 0:\n",
    "                print(\"\\tEl ingeniero\" , j, \"con costo de $\", costos[i].loc[j])\n",
    "                suma = suma + costos[i].loc[j] * asignacion[i, j]\n",
    "\n",
    "suma = suma - (costos['C3'].loc['I3']*asignacion['C3','I3'] + costos['C3'].loc['I6']*asignacion['C3','I6'] + costos['C5'].loc['I1']*asignacion['C5','I1'] + costos['C5'].loc['I5']*asignacion['C5','I5'])\n",
    "\n",
    "programa.set_objective(suma)\n",
    "programa.show()"
   ]
  },
  {
   "cell_type": "markdown",
   "metadata": {},
   "source": [
    "<br/>\n",
    "\n",
    "El modelo de programación lineal, requiere de la definición de restricciones que limitan la minimización de la función objetivo.\n",
    "En nuestro problema se tienen dos tipos de restricciones, la primera relacionada con que cada ingeniero debe resolver máximo, la cantidad de solicitudes de cada cliente y también resolver solo aquellas para las que está calificado."
   ]
  },
  {
   "cell_type": "code",
   "execution_count": 8,
   "metadata": {
    "collapsed": false,
    "jupyter": {
     "outputs_hidden": false
    }
   },
   "outputs": [],
   "source": [
    "programa.add_constraint(asignacion[('C2', 'I1')] + asignacion[('C5', 'I1')] <= 2)\n",
    "programa.add_constraint(asignacion[('C2', 'I2')] + asignacion[('C4', 'I2')] + asignacion[('C5', 'I2')] <= 1)\n",
    "programa.add_constraint(asignacion[('C1', 'I3')] + asignacion[('C3', 'I3')] + asignacion[('C5', 'I3')] <= 3)\n",
    "programa.add_constraint(asignacion[('C3', 'I4')] + asignacion[('C4', 'I4')] + asignacion[('C5', 'I4')] <= 2)\n",
    "programa.add_constraint(asignacion[('C5', 'I5')] <= 1)\n",
    "programa.add_constraint(asignacion[('C1', 'I6')] + asignacion[('C2', 'I6')] + asignacion[('C3', 'I6')] + asignacion[('C5', 'I6')] <= 3)"
   ]
  },
  {
   "cell_type": "markdown",
   "metadata": {},
   "source": [
    "<br/>\n",
    "\n",
    "En estas restricciones se maneja que cada cliente reciba a un ingeniero para resolver su solicitud de servicio y no más de lo solicitado."
   ]
  },
  {
   "cell_type": "code",
   "execution_count": 9,
   "metadata": {
    "collapsed": false,
    "jupyter": {
     "outputs_hidden": false
    }
   },
   "outputs": [
    {
     "name": "stdout",
     "output_type": "stream",
     "text": [
      "Minimization:\n",
      "  111.0 Asignación[('C1', 'I3')] + 125.0 Asignación[('C1', 'I6')] + 113.0 Asignación[('C2', 'I1')] + 97.0 Asignación[('C2', 'I2')] + 107.0 Asignación[('C2', 'I6')] + 120.0 Asignación[('C3', 'I3')] + 60.0 Asignación[('C3', 'I6')] + 113.0 Asignación[('C3', 'I4')] + 127.0 Asignación[('C4', 'I2')] + 93.0 Asignación[('C4', 'I4')] + 60.0 Asignación[('C5', 'I1')] + 119.0 Asignación[('C5', 'I3')] + 114.0 Asignación[('C5', 'I5')] + 64.0 Asignación[('C5', 'I6')] + 113.0 Asignación[('C5', 'I2')] + 112.0 Asignación[('C5', 'I4')] \n",
      "\n",
      "Constraints:\n",
      "  Asignación[('C2', 'I1')] + Asignación[('C5', 'I1')] <= 2.0\n",
      "  Asignación[('C2', 'I2')] + Asignación[('C4', 'I2')] + Asignación[('C5', 'I2')] <= 1.0\n",
      "  Asignación[('C1', 'I3')] + Asignación[('C3', 'I3')] + Asignación[('C5', 'I3')] <= 3.0\n",
      "  Asignación[('C3', 'I4')] + Asignación[('C4', 'I4')] + Asignación[('C5', 'I4')] <= 2.0\n",
      "  Asignación[('C5', 'I5')] <= 1.0\n",
      "  Asignación[('C1', 'I6')] + Asignación[('C2', 'I6')] + Asignación[('C3', 'I6')] + Asignación[('C5', 'I6')] <= 3.0\n",
      "  2.0 <= Asignación[('C1', 'I3')] + Asignación[('C1', 'I6')] <= 2.0\n",
      "  1.0 <= Asignación[('C2', 'I1')] + Asignación[('C2', 'I2')] + Asignación[('C2', 'I6')] <= 1.0\n",
      "  2.0 <= Asignación[('C3', 'I3')] + Asignación[('C3', 'I6')] + Asignación[('C3', 'I4')] <= 2.0\n",
      "  2.0 <= Asignación[('C4', 'I2')] + Asignación[('C4', 'I4')] <= 2.0\n",
      "  2.0 <= Asignación[('C5', 'I1')] + Asignación[('C5', 'I3')] + Asignación[('C5', 'I5')] + Asignación[('C5', 'I6')] + Asignación[('C5', 'I2')] + Asignación[('C5', 'I4')] <= 2.0\n",
      "Variables:\n",
      "  Asignación[('C1', 'I3')] = x_0 is an integer variable (min=0.0, max=+oo)\n",
      "  Asignación[('C1', 'I6')] = x_1 is an integer variable (min=0.0, max=+oo)\n",
      "  Asignación[('C2', 'I1')] = x_2 is an integer variable (min=0.0, max=+oo)\n",
      "  Asignación[('C2', 'I2')] = x_3 is an integer variable (min=0.0, max=+oo)\n",
      "  Asignación[('C2', 'I6')] = x_4 is an integer variable (min=0.0, max=+oo)\n",
      "  Asignación[('C3', 'I3')] = x_5 is an integer variable (min=0.0, max=+oo)\n",
      "  Asignación[('C3', 'I6')] = x_6 is an integer variable (min=0.0, max=+oo)\n",
      "  Asignación[('C3', 'I4')] = x_7 is an integer variable (min=0.0, max=+oo)\n",
      "  Asignación[('C4', 'I2')] = x_8 is an integer variable (min=0.0, max=+oo)\n",
      "  Asignación[('C4', 'I4')] = x_9 is an integer variable (min=0.0, max=+oo)\n",
      "  Asignación[('C5', 'I1')] = x_10 is an integer variable (min=0.0, max=+oo)\n",
      "  Asignación[('C5', 'I3')] = x_11 is an integer variable (min=0.0, max=+oo)\n",
      "  Asignación[('C5', 'I5')] = x_12 is an integer variable (min=0.0, max=+oo)\n",
      "  Asignación[('C5', 'I6')] = x_13 is an integer variable (min=0.0, max=+oo)\n",
      "  Asignación[('C5', 'I2')] = x_14 is an integer variable (min=0.0, max=+oo)\n",
      "  Asignación[('C5', 'I4')] = x_15 is an integer variable (min=0.0, max=+oo)\n"
     ]
    }
   ],
   "source": [
    "programa.add_constraint(asignacion[('C1', 'I3')] + asignacion[('C1', 'I6')] == 2)\n",
    "programa.add_constraint(asignacion[('C2', 'I1')] + asignacion[('C2', 'I2')] + asignacion[('C2', 'I6')] == 1)\n",
    "programa.add_constraint(asignacion[('C3', 'I3')] + asignacion[('C3', 'I6')] + asignacion[('C3', 'I4')] == 2)\n",
    "programa.add_constraint(asignacion[('C4', 'I2')] + asignacion[('C4', 'I4')] == 2)\n",
    "programa.add_constraint(asignacion[('C5', 'I1')] + asignacion[('C5', 'I3')] + asignacion[('C5', 'I5')] + asignacion[('C5', 'I6')] + asignacion[('C5', 'I2')] + asignacion[('C5', 'I4')] == 2)\n",
    "programa.show()"
   ]
  },
  {
   "cell_type": "markdown",
   "metadata": {},
   "source": [
    "<br/>\n",
    "\n",
    "En la siguiente sección de código se le indica a la herramienta \"Sagemath\" que resuelva el modelo de programación lineal con la función objetivo y restricciones establecidas.\n",
    "Para este caso en particular, el costo mínimo de asignación de ingenieros a solicitudes de clientes es de 745.00 dólares.    \n",
    "Este es el costo mínimo que se puede obtener bajo las restricciones especificadas en el modelo."
   ]
  },
  {
   "cell_type": "code",
   "execution_count": 10,
   "metadata": {
    "collapsed": false,
    "jupyter": {
     "outputs_hidden": false
    }
   },
   "outputs": [
    {
     "name": "stdout",
     "output_type": "stream",
     "text": [
      "745.0\n"
     ]
    }
   ],
   "source": [
    "solucion = programa.solve()\n",
    "print(solucion)"
   ]
  },
  {
   "cell_type": "markdown",
   "metadata": {},
   "source": [
    "<br/>\n",
    "\n",
    "En esta última parte del código, se muestra la solución desglosada para la cantidad de servicios por cliente y qué ingeniero atiende cada uno de ellos, además se indica el costo de atención de cada solicitud."
   ]
  },
  {
   "cell_type": "code",
   "execution_count": 11,
   "metadata": {
    "collapsed": false,
    "jupyter": {
     "outputs_hidden": false
    }
   },
   "outputs": [
    {
     "name": "stdout",
     "output_type": "stream",
     "text": [
      "El cliente C1 solicitó 2 servicios\n",
      "\tEl ingeniero I3 dara 2 servicios a costo de $222.00\n",
      "\tEl ingeniero I6 dara 0 servicios a costo de $0.00\n",
      "El cliente C2 solicitó 1 servicios\n",
      "\tEl ingeniero I1 dara 0 servicios a costo de $0.00\n",
      "\tEl ingeniero I2 dara 1 servicios a costo de $97.00\n",
      "\tEl ingeniero I6 dara 0 servicios a costo de $0.00\n",
      "El cliente C3 solicitó 2 servicios\n",
      "\tEl ingeniero I3 dara 0 servicios a costo de $0.00\n",
      "\tEl ingeniero I6 dara 2 servicios a costo de $120.00\n",
      "\tEl ingeniero I4 dara 0 servicios a costo de $0.00\n",
      "El cliente C4 solicitó 2 servicios\n",
      "\tEl ingeniero I2 dara 0 servicios a costo de $0.00\n",
      "\tEl ingeniero I4 dara 2 servicios a costo de $186.00\n",
      "El cliente C5 solicitó 2 servicios\n",
      "\tEl ingeniero I1 dara 2 servicios a costo de $120.00\n",
      "\tEl ingeniero I3 dara 0 servicios a costo de $0.00\n",
      "\tEl ingeniero I5 dara 0 servicios a costo de $0.00\n",
      "\tEl ingeniero I6 dara 0 servicios a costo de $0.00\n",
      "\tEl ingeniero I2 dara 0 servicios a costo de $0.00\n",
      "\tEl ingeniero I4 dara 0 servicios a costo de $0.00\n",
      "\n",
      "El costo del programa es $745.00\n"
     ]
    }
   ],
   "source": [
    "suma = 0\n",
    "previouskey = ''\n",
    "for key, val in programa.get_values(asignacion).items():\n",
    "    ##if val != 0:\n",
    "    solicitudestotal = solicitudes.Servicio01.loc[key[0]] + solicitudes.Servicio02.loc[key[0]] + solicitudes.Servicio03.loc[key[0]] + solicitudes.Servicio04.loc[key[0]] + solicitudes.Servicio05.loc[key[0]] + solicitudes.Servicio06.loc[key[0]]\n",
    "    if previouskey != key[0]:\n",
    "        print(\"El cliente\", key[0] , \"solicitó\", solicitudestotal, \"servicios\")\n",
    "        previouskey = key[0]\n",
    "    parcial = val * costos[key[0]].loc[key[1]]\n",
    "    suma += parcial\n",
    "    print(\"\\tEl ingeniero\", key[1] , \"dara {:.0f}\".format(val), \"servicios a costo de ${:,.2f}\".format(parcial))\n",
    "print(\"\\nEl costo del programa es ${:,.2f}\".format(suma))"
   ]
  },
  {
   "cell_type": "code",
   "execution_count": null,
   "metadata": {
    "collapsed": false,
    "jupyter": {
     "outputs_hidden": false
    }
   },
   "outputs": [],
   "source": []
  }
 ],
 "metadata": {
  "kernelspec": {
   "display_name": "Python 3",
   "language": "python",
   "name": "python3"
  },
  "language_info": {
   "codemirror_mode": {
    "name": "ipython",
    "version": 3
   },
   "file_extension": ".py",
   "mimetype": "text/x-python",
   "name": "python",
   "nbconvert_exporter": "python",
   "pygments_lexer": "ipython3",
   "version": "3.7.10"
  }
 },
 "nbformat": 4,
 "nbformat_minor": 4
}
